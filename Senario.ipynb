{
 "cells": [
  {
   "cell_type": "markdown",
   "id": "048094a3",
   "metadata": {},
   "source": [
    "#  Senario\n",
    "\n",
    "Embark on an extraordinary data-driven odyssey with SpaceXSuccessForecast, where the frontiers of space exploration merge seamlessly with the precision of predictive analytics. The core of this capstone journey is the prediction of Falcon 9's first stage landing success—an endeavor that unlocks profound insights into the realm of space travel economics. SpaceX, renowned for its groundbreaking rocket launches, offers the Falcon 9 at an astonishing cost of 62 million dollars, a stark contrast to the staggering 165 million dollars demanded by other providers, thanks to SpaceX's pioneering practice of reusing the initial stage. The ultimate aim? Determine the landing's outcome to definitively ascertain the launch cost. Such information proves invaluable for alternate companies seeking to challenge SpaceX in the rocket launch domain. An example of a successful landing:\n",
    "\n",
    "![](https://cf-courses-data.s3.us.cloud-object-storage.appdomain.cloud/IBMDeveloperSkillsNetwork-DS0701EN-SkillsNetwork/lab_v2/images/landing_1.gif)\n",
    "\n",
    "## Purpose and Scope\n",
    "\n",
    "In this transformative capstone expedition, we delve into the world of data science and its real-world applications. You step into the role of a Data Scientist leading a startup ready to take on the industry giant, SpaceX. This journey encompasses the entire spectrum of data science methodologies, from collecting and wrangling data to illuminating exploratory data analysis, crafting visualizations, developing intricate models, rigorously evaluating them, and culminating in the vital task of conveying insights to stakeholders. The mission is clear yet complex: predict the outcome of Falcon 9's first stage landing. Through the lens of data science, we navigate through real datasets, uncover hidden patterns, and craft predictive models that will shape the future of space endeavors.Examples of unsuccessful landings:\n",
    "\n",
    "![](https://cf-courses-data.s3.us.cloud-object-storage.appdomain.cloud/IBMDeveloperSkillsNetwork-DS0701EN-SkillsNetwork/lab_v2/images/crash.gif)\n",
    "\n",
    "## Business Problem and Motivation\n",
    "\n",
    "The space industry's colossal costs present a formidable challenge. The Falcon 9, with its reusable first stage, holds the promise of redefining launch expenses and industry norms. Enter our startup—armed with data science—to predict the landing outcome. This goes beyond competition; it's about enabling informed decisions. As we determine the likelihood of a successful landing, we simultaneously unearth the cost of a launch. Armed with these insights, our startup stands ready to compete with SpaceX, placing strategic bids for rocket launches that promise both financial viability and technological excellence.\n",
    "\n",
    "## Objective and Data Exploration\n",
    "\n",
    "Within this data-driven saga lies a dual objective. Firstly, we wield data science tools and machine learning techniques to accurately predict the probability of Falcon 9's successful first stage landing. Secondly, we embark on a journey of data exploration, unearthing insights that reveal the vast potential hidden within the dataset. As we traverse the terrain of data analysis, our guiding star is classification accuracy—an essential metric that gauges the effectiveness of our journey. This metric provides a panoramic view of our models' capability to differentiate between triumphant landings and those that end in a different fate.\n"
   ]
  },
  {
   "cell_type": "code",
   "execution_count": null,
   "id": "a7c400a9",
   "metadata": {},
   "outputs": [],
   "source": []
  }
 ],
 "metadata": {
  "kernelspec": {
   "display_name": "Python 3 (ipykernel)",
   "language": "python",
   "name": "python3"
  },
  "language_info": {
   "codemirror_mode": {
    "name": "ipython",
    "version": 3
   },
   "file_extension": ".py",
   "mimetype": "text/x-python",
   "name": "python",
   "nbconvert_exporter": "python",
   "pygments_lexer": "ipython3",
   "version": "3.11.3"
  }
 },
 "nbformat": 4,
 "nbformat_minor": 5
}
